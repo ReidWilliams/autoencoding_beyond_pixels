{
 "cells": [
  {
   "cell_type": "markdown",
   "metadata": {},
   "source": [
    "## 10/08/17 — Test run with 128 x 128 pixel images\n",
    "\n",
    "* 128 x 128 pixel images\n",
    "* epoch size of 125 (to keep consistent with previous run)\n",
    "* batch size 128\n",
    "* Full training set (~200k images)\n",
    "\n",
    "Not worrying about using full training set because I know that epoch_size limits the batches per epoch."
   ]
  },
  {
   "cell_type": "markdown",
   "metadata": {},
   "source": [
    "## 10/07/17 — First long run\n",
    "\n",
    "* 64 x 64 pixel images\n",
    "* somewhere around 125 epochs, with epoch size of 125\n",
    "* batch size 128 (fits on p2 GPU)\n",
    "* 3000 training images\n",
    "* Prefixed with “1” in out directory\n",
    "\n",
    "Played with encode/decode of some training images and some samples of z and this model\n",
    "kinda learns faces, but also see lots of images that just look like total noise.\n",
    "\n",
    "Didn’t realize when running this that epoch_size isn’t number of epochs. This code doesn’t automatically treat a pass through the entire training dataset as an epoch. Instead epoch_size is the number of batches in an epoch.\n",
    "\n",
    "Batch size is number of data points (each an image) in the batch.\n",
    "\n",
    "Saying I did 125 epochs, that’s about 16,000 batches.\n",
    "Measured running time, and it was about 8 minutes per epoch, so about 3.84 seconds per batch."
   ]
  }
 ],
 "metadata": {
  "kernelspec": {
   "display_name": "Python 3",
   "language": "python",
   "name": "python3"
  },
  "language_info": {
   "codemirror_mode": {
    "name": "ipython",
    "version": 3
   },
   "file_extension": ".py",
   "mimetype": "text/x-python",
   "name": "python",
   "nbconvert_exporter": "python",
   "pygments_lexer": "ipython3",
   "version": "3.6.1"
  }
 },
 "nbformat": 4,
 "nbformat_minor": 2
}
