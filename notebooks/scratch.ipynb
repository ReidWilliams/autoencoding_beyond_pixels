{
 "cells": [
  {
   "cell_type": "code",
   "execution_count": 2,
   "metadata": {
    "collapsed": true
   },
   "outputs": [],
   "source": [
    "import os"
   ]
  },
  {
   "cell_type": "code",
   "execution_count": 3,
   "metadata": {},
   "outputs": [
    {
     "data": {
      "text/plain": [
       "['output.py',\n",
       " 'stl_aegan.py',\n",
       " '.gitignore',\n",
       " 'mnist_gan.py',\n",
       " 'mnist_ae.py',\n",
       " 'lfw_aegan.py',\n",
       " 'architectures.py',\n",
       " 'output.pyc',\n",
       " 'LICENSE',\n",
       " 'aegan.py',\n",
       " 'architectures.pyc',\n",
       " 'README.md',\n",
       " 'cifar_aegan.py',\n",
       " 'aegan.pyc',\n",
       " 'video.pyc',\n",
       " 'video.py',\n",
       " 'celeba_aegan.py']"
      ]
     },
     "execution_count": 3,
     "metadata": {},
     "output_type": "execute_result"
    }
   ],
   "source": [
    "mypath = '/home/ec2-user/autoencoding_beyond_pixels'\n",
    "onlyfiles = [f for f in os.listdir(mypath) if os.path.isfile(os.path.join(mypath, f))]\n",
    "onlyfiles"
   ]
  }
 ],
 "metadata": {
  "kernelspec": {
   "display_name": "Python 3",
   "language": "python",
   "name": "python3"
  },
  "language_info": {
   "codemirror_mode": {
    "name": "ipython",
    "version": 3
   },
   "file_extension": ".py",
   "mimetype": "text/x-python",
   "name": "python",
   "nbconvert_exporter": "python",
   "pygments_lexer": "ipython3",
   "version": "3.6.2"
  }
 },
 "nbformat": 4,
 "nbformat_minor": 2
}
